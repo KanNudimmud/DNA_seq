{
  "nbformat": 4,
  "nbformat_minor": 0,
  "metadata": {
    "colab": {
      "name": "algo for assembly.ipynb",
      "provenance": []
    },
    "kernelspec": {
      "name": "python3",
      "display_name": "Python 3"
    },
    "language_info": {
      "name": "python"
    }
  },
  "cells": [
    {
      "cell_type": "code",
      "execution_count": 1,
      "metadata": {
        "colab": {
          "base_uri": "https://localhost:8080/",
          "height": 35
        },
        "id": "AI9GjZU55DBf",
        "outputId": "37033323-a8eb-43ea-b171-17c3c75cc37e"
      },
      "outputs": [
        {
          "output_type": "execute_result",
          "data": {
            "text/plain": [
              "'ACGGATGAGCGAGCGGA'"
            ],
            "application/vnd.google.colaboratory.intrinsic+json": {
              "type": "string"
            }
          },
          "metadata": {},
          "execution_count": 1
        }
      ],
      "source": [
        "## Implementing shortest common superstring\n",
        "def overlap(a, b, min_length=3):\n",
        "    \"\"\" Return length of longest suffix of 'a' matching\n",
        "        a prefix of 'b' that is at least 'min_length'\n",
        "        characters long.  If no such overlap exists,\n",
        "        return 0. \"\"\"\n",
        "    start = 0  # start all the way at the left\n",
        "    while True:\n",
        "        start = a.find(b[:min_length], start)  # look for b's prefix in a\n",
        "        if start == -1:  # no more occurrences to right\n",
        "            return 0\n",
        "        # found occurrence; check for full suffix/prefix match\n",
        "        if b.startswith(a[start:]):\n",
        "            return len(a)-start\n",
        "        start += 1  # move just past previous match\n",
        "\n",
        "import itertools\n",
        "\n",
        "def scs(ss):\n",
        "    \"\"\" Returns shortest common superstring of given strings,\n",
        "        assuming no string is a strict substring of another \"\"\"\n",
        "    shortest_sup = None\n",
        "    for ssperm in itertools.permutations(ss):\n",
        "        sup = ssperm[0]\n",
        "        for i in range(len(ss)-1):\n",
        "            olen = overlap(ssperm[i], ssperm[i+1], min_length=1)\n",
        "            sup += ssperm[i+1][olen:]\n",
        "        if shortest_sup is None or len(sup) < len(shortest_sup):\n",
        "            shortest_sup = sup\n",
        "    return shortest_sup\n",
        "\n",
        "scs(['ACGGATGAGC', 'GAGCGGA', 'GAGCGAG'])"
      ]
    },
    {
      "cell_type": "code",
      "source": [
        "## Implementing greedy shortest common superstring\n",
        "def pick_maximal_overlap(reads, k):\n",
        "    \"\"\" Return a pair of reads from the list with a\n",
        "        maximal suffix/prefix overlap >= k.  Returns\n",
        "        overlap length 0 if there are no such overlaps.\"\"\"\n",
        "    reada, readb = None, None\n",
        "    best_olen = 0\n",
        "    for a, b in itertools.permutations(reads, 2):\n",
        "        olen = overlap(a, b, min_length=k)\n",
        "        if olen > best_olen:\n",
        "            reada, readb = a, b\n",
        "            best_olen = olen\n",
        "    return reada, readb, best_olen\n",
        "def greedy_scs(reads, k):\n",
        "    \"\"\" Greedy shortest-common-superstring merge.\n",
        "        Repeat until no edges (overlaps of length >= k)\n",
        "        remain. \"\"\"\n",
        "    read_a, read_b, olen = pick_maximal_overlap(reads, k)\n",
        "    while olen > 0:\n",
        "        reads.remove(read_a)\n",
        "        reads.remove(read_b)\n",
        "        reads.append(read_a + read_b[olen:])\n",
        "        read_a, read_b, olen = pick_maximal_overlap(reads, k)\n",
        "    return ''.join(reads)"
      ],
      "metadata": {
        "id": "IS0-XSAt5Fp0"
      },
      "execution_count": 2,
      "outputs": []
    },
    {
      "cell_type": "code",
      "source": [
        "greedy_scs(['ABC', 'BCA', 'CAB'], 2)"
      ],
      "metadata": {
        "colab": {
          "base_uri": "https://localhost:8080/",
          "height": 35
        },
        "id": "JjPAT37x5Fry",
        "outputId": "91d359c4-ef29-45ac-de27-8fd98e7ceea3"
      },
      "execution_count": 3,
      "outputs": [
        {
          "output_type": "execute_result",
          "data": {
            "text/plain": [
              "'CABCA'"
            ],
            "application/vnd.google.colaboratory.intrinsic+json": {
              "type": "string"
            }
          },
          "metadata": {},
          "execution_count": 3
        }
      ]
    },
    {
      "cell_type": "code",
      "source": [
        "greedy_scs(['ABCD', 'CDBC', 'BCDA'], 1)"
      ],
      "metadata": {
        "colab": {
          "base_uri": "https://localhost:8080/",
          "height": 35
        },
        "id": "_JNPoPcq5FuD",
        "outputId": "764690c7-2bd3-41a8-efa8-01cbfc52f12e"
      },
      "execution_count": 4,
      "outputs": [
        {
          "output_type": "execute_result",
          "data": {
            "text/plain": [
              "'CDBCABCDA'"
            ],
            "application/vnd.google.colaboratory.intrinsic+json": {
              "type": "string"
            }
          },
          "metadata": {},
          "execution_count": 4
        }
      ]
    },
    {
      "cell_type": "code",
      "source": [
        "scs(['ABCD', 'CDBC', 'BCDA'])"
      ],
      "metadata": {
        "colab": {
          "base_uri": "https://localhost:8080/",
          "height": 35
        },
        "id": "4YGB-LMp5FwM",
        "outputId": "ab390bfe-ddd9-468f-b8e9-150da91c2dbb"
      },
      "execution_count": 5,
      "outputs": [
        {
          "output_type": "execute_result",
          "data": {
            "text/plain": [
              "'ABCDBCDA'"
            ],
            "application/vnd.google.colaboratory.intrinsic+json": {
              "type": "string"
            }
          },
          "metadata": {},
          "execution_count": 5
        }
      ]
    },
    {
      "cell_type": "code",
      "source": [
        "## Building a De Bruijn graph\n",
        "def de_bruijn_ize(st, k):\n",
        "    \"\"\" Return a list holding, for each k-mer, its left\n",
        "        k-1-mer and its right k-1-mer in a pair \"\"\"\n",
        "    edges = []\n",
        "    nodes = set()\n",
        "    for i in range(len(st) - k + 1):\n",
        "        edges.append((st[i:i+k-1], st[i+1:i+k]))\n",
        "        nodes.add(st[i:i+k-1])\n",
        "        nodes.add(st[i+1:i+k])\n",
        "    return nodes, edges"
      ],
      "metadata": {
        "id": "njZcDFEx5FyU"
      },
      "execution_count": 6,
      "outputs": []
    },
    {
      "cell_type": "code",
      "source": [
        "nodes, edges = de_bruijn_ize(\"ACGCGTCG\", 3)"
      ],
      "metadata": {
        "id": "VIXGnPBE7Azz"
      },
      "execution_count": 7,
      "outputs": []
    },
    {
      "cell_type": "code",
      "source": [
        "nodes"
      ],
      "metadata": {
        "colab": {
          "base_uri": "https://localhost:8080/"
        },
        "id": "v59K4fLt7A1_",
        "outputId": "da1b05b7-225f-4db5-8af4-3453abd803b8"
      },
      "execution_count": 8,
      "outputs": [
        {
          "output_type": "execute_result",
          "data": {
            "text/plain": [
              "{'AC', 'CG', 'GC', 'GT', 'TC'}"
            ]
          },
          "metadata": {},
          "execution_count": 8
        }
      ]
    },
    {
      "cell_type": "code",
      "source": [
        "edges"
      ],
      "metadata": {
        "colab": {
          "base_uri": "https://localhost:8080/"
        },
        "id": "LoTaK8xm5F0B",
        "outputId": "dc358f85-a764-41dc-fb94-5fe72f629d35"
      },
      "execution_count": 9,
      "outputs": [
        {
          "output_type": "execute_result",
          "data": {
            "text/plain": [
              "[('AC', 'CG'),\n",
              " ('CG', 'GC'),\n",
              " ('GC', 'CG'),\n",
              " ('CG', 'GT'),\n",
              " ('GT', 'TC'),\n",
              " ('TC', 'CG')]"
            ]
          },
          "metadata": {},
          "execution_count": 9
        }
      ]
    },
    {
      "cell_type": "code",
      "source": [
        "def visualize_de_bruijn(st, k):\n",
        "    \"\"\" Visualize a directed multigraph using graphviz \"\"\"\n",
        "    nodes, edges = de_bruijn_ize(st, k)\n",
        "    dot_str = 'digraph \"DeBruijn graph\" {\\n'\n",
        "    for node in nodes:\n",
        "        dot_str += '  %s [label=\"%s\"] ;\\n' % (node, node)\n",
        "    for src, dst in edges:\n",
        "        dot_str += '  %s -> %s ;\\n' % (src, dst)\n",
        "    return dot_str + '}\\n'"
      ],
      "metadata": {
        "id": "hw5gubD08R0D"
      },
      "execution_count": 10,
      "outputs": []
    },
    {
      "cell_type": "code",
      "source": [
        "print(visualize_de_bruijn(\"ACGCGTCG\", 3))"
      ],
      "metadata": {
        "colab": {
          "base_uri": "https://localhost:8080/"
        },
        "id": "bWtA3VdUB72V",
        "outputId": "055bde75-1741-4091-df04-c04890a69695"
      },
      "execution_count": 24,
      "outputs": [
        {
          "output_type": "stream",
          "name": "stdout",
          "text": [
            "digraph \"DeBruijn graph\" {\n",
            "  AC [label=\"AC\"] ;\n",
            "  CG [label=\"CG\"] ;\n",
            "  TC [label=\"TC\"] ;\n",
            "  GT [label=\"GT\"] ;\n",
            "  GC [label=\"GC\"] ;\n",
            "  AC -> CG ;\n",
            "  CG -> GC ;\n",
            "  GC -> CG ;\n",
            "  CG -> GT ;\n",
            "  GT -> TC ;\n",
            "  TC -> CG ;\n",
            "}\n",
            "\n"
          ]
        }
      ]
    }
  ]
}