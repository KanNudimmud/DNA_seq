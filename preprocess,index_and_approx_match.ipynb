{
  "nbformat": 4,
  "nbformat_minor": 0,
  "metadata": {
    "colab": {
      "name": "preprocess,index and approx match.ipynb",
      "provenance": []
    },
    "kernelspec": {
      "name": "python3",
      "display_name": "Python 3"
    },
    "language_info": {
      "name": "python"
    }
  },
  "cells": [
    {
      "cell_type": "code",
      "execution_count": 1,
      "metadata": {
        "id": "vBe14LTCdumi"
      },
      "outputs": [],
      "source": [
        "## Implementing Boyer-Moore\n",
        "# Copy paste functions which will be required for preprocessing\n",
        "import string\n",
        "\n",
        "def z_array(s):\n",
        "    \"\"\" Use Z algorithm (Gusfield theorem 1.4.1) to preprocess s \"\"\"\n",
        "    assert len(s) > 1\n",
        "    z = [len(s)] + [0] * (len(s)-1)\n",
        "    # Initial comparison of s[1:] with prefix\n",
        "    for i in range(1, len(s)):\n",
        "        if s[i] == s[i-1]:\n",
        "            z[1] += 1\n",
        "        else:\n",
        "            break\n",
        "    r, l = 0, 0\n",
        "    if z[1] > 0:\n",
        "        r, l = z[1], 1\n",
        "    for k in range(2, len(s)):\n",
        "        assert z[k] == 0\n",
        "        if k > r:\n",
        "            # Case 1\n",
        "            for i in range(k, len(s)):\n",
        "                if s[i] == s[i-k]:\n",
        "                    z[k] += 1\n",
        "                else:\n",
        "                    break\n",
        "            r, l = k + z[k] - 1, k\n",
        "        else:\n",
        "            # Case 2\n",
        "            # Calculate length of beta\n",
        "            nbeta = r - k + 1\n",
        "            zkp = z[k - l]\n",
        "            if nbeta > zkp:\n",
        "                # Case 2a: Zkp wins\n",
        "                z[k] = zkp\n",
        "            else:\n",
        "                # Case 2b: Compare characters just past r\n",
        "                nmatch = 0\n",
        "                for i in range(r+1, len(s)):\n",
        "                    if s[i] == s[i - k]:\n",
        "                        nmatch += 1\n",
        "                    else:\n",
        "                        break\n",
        "                l, r = k, r + nmatch\n",
        "                z[k] = r - k + 1\n",
        "    return z\n",
        "\n",
        "def n_array(s):\n",
        "    \"\"\" Compile the N array (Gusfield theorem 2.2.2) from the Z array \"\"\"\n",
        "    return z_array(s[::-1])[::-1]\n",
        "\n",
        "def big_l_prime_array(p, n):\n",
        "    \"\"\" Compile L' array (Gusfield theorem 2.2.2) using p and N array.\n",
        "        L'[i] = largest index j less than n such that N[j] = |P[i:]| \"\"\"\n",
        "    lp = [0] * len(p)\n",
        "    for j in range(len(p)-1):\n",
        "        i = len(p) - n[j]\n",
        "        if i < len(p):\n",
        "            lp[i] = j + 1\n",
        "    return lp\n",
        "\n",
        "def big_l_array(p, lp):\n",
        "    \"\"\" Compile L array (Gusfield theorem 2.2.2) using p and L' array.\n",
        "        L[i] = largest index j less than n such that N[j] >= |P[i:]| \"\"\"\n",
        "    l = [0] * len(p)\n",
        "    l[1] = lp[1]\n",
        "    for i in range(2, len(p)):\n",
        "        l[i] = max(l[i-1], lp[i])\n",
        "    return l\n",
        "\n",
        "def small_l_prime_array(n):\n",
        "    \"\"\" Compile lp' array (Gusfield theorem 2.2.4) using N array. \"\"\"\n",
        "    small_lp = [0] * len(n)\n",
        "    for i in range(len(n)):\n",
        "        if n[i] == i+1:  # prefix matching a suffix\n",
        "            small_lp[len(n)-i-1] = i+1\n",
        "    for i in range(len(n)-2, -1, -1):  # \"smear\" them out to the left\n",
        "        if small_lp[i] == 0:\n",
        "            small_lp[i] = small_lp[i+1]\n",
        "    return small_lp\n",
        "\n",
        "def good_suffix_table(p):\n",
        "    \"\"\" Return tables needed to apply good suffix rule. \"\"\"\n",
        "    n = n_array(p)\n",
        "    lp = big_l_prime_array(p, n)\n",
        "    return lp, big_l_array(p, lp), small_l_prime_array(n)\n",
        "\n",
        "def good_suffix_mismatch(i, big_l_prime, small_l_prime):\n",
        "    \"\"\" Given a mismatch at offset i, and given L/L' and l' arrays,\n",
        "        return amount to shift as determined by good suffix rule. \"\"\"\n",
        "    length = len(big_l_prime)\n",
        "    assert i < length\n",
        "    if i == length - 1:\n",
        "        return 0\n",
        "    i += 1  # i points to leftmost matching position of P\n",
        "    if big_l_prime[i] > 0:\n",
        "        return length - big_l_prime[i]\n",
        "    return length - small_l_prime[i]\n",
        "\n",
        "def good_suffix_match(small_l_prime):\n",
        "    \"\"\" Given a full match of P to T, return amount to shift as\n",
        "        determined by good suffix rule. \"\"\"\n",
        "    return len(small_l_prime) - small_l_prime[1]\n",
        "\n",
        "def dense_bad_char_tab(p, amap):\n",
        "    \"\"\" Given pattern string and list with ordered alphabet characters, create\n",
        "        and return a dense bad character table.  Table is indexed by offset\n",
        "        then by character. \"\"\"\n",
        "    tab = []\n",
        "    nxt = [0] * len(amap)\n",
        "    for i in range(0, len(p)):\n",
        "        c = p[i]\n",
        "        assert c in amap\n",
        "        tab.append(nxt[:])\n",
        "        nxt[amap[c]] = i+1\n",
        "    return tab\n",
        "\n",
        "class BoyerMoore(object):\n",
        "    \"\"\" Encapsulates pattern and associated Boyer-Moore preprocessing. \"\"\"\n",
        "    \n",
        "    def __init__(self, p, alphabet='ACGT'):\n",
        "        self.p = p\n",
        "        self.alphabet = alphabet\n",
        "        # Create map from alphabet characters to integers\n",
        "        self.amap = {}\n",
        "        for i in range(len(self.alphabet)):\n",
        "            self.amap[self.alphabet[i]] = i\n",
        "        # Make bad character rule table\n",
        "        self.bad_char = dense_bad_char_tab(p, self.amap)\n",
        "        # Create good suffix rule table\n",
        "        _, self.big_l, self.small_l_prime = good_suffix_table(p)\n",
        "    \n",
        "    def bad_character_rule(self, i, c):\n",
        "        \"\"\" Return # skips given by bad character rule at offset i \"\"\"\n",
        "        assert c in self.amap\n",
        "        ci = self.amap[c]\n",
        "        assert i > (self.bad_char[i][ci]-1)\n",
        "        return i - (self.bad_char[i][ci]-1)\n",
        "    \n",
        "    def good_suffix_rule(self, i):\n",
        "        \"\"\" Given a mismatch at offset i, return amount to shift\n",
        "            as determined by (weak) good suffix rule. \"\"\"\n",
        "        length = len(self.big_l)\n",
        "        assert i < length\n",
        "        if i == length - 1:\n",
        "            return 0\n",
        "        i += 1  # i points to leftmost matching position of P\n",
        "        if self.big_l[i] > 0:\n",
        "            return length - self.big_l[i]\n",
        "        return length - self.small_l_prime[i]\n",
        "    \n",
        "    def match_skip(self):\n",
        "        \"\"\" Return amount to shift in case where P matches T \"\"\"\n",
        "        return len(self.small_l_prime) - self.small_l_prime[1]\n"
      ]
    },
    {
      "cell_type": "code",
      "source": [
        "# Test functions works well\n",
        "# GCTAGCTC\n",
        "# TCAA (pattern)\n",
        "p = 'TCAA'\n",
        "p_bm = BoyerMoore(p)\n",
        "p_bm.bad_character_rule(2, 'T')"
      ],
      "metadata": {
        "colab": {
          "base_uri": "https://localhost:8080/"
        },
        "id": "yjmcvadld5uZ",
        "outputId": "05d2db60-d535-413d-df90-ab6818e42aa0"
      },
      "execution_count": 3,
      "outputs": [
        {
          "output_type": "execute_result",
          "data": {
            "text/plain": [
              "2"
            ]
          },
          "metadata": {},
          "execution_count": 3
        }
      ]
    },
    {
      "cell_type": "code",
      "source": [
        "# GCTAGCTC\n",
        "# ACTA (pattern)\n",
        "p = 'ACTA'\n",
        "p_bm = BoyerMoore(p)\n",
        "p_bm.good_suffix_rule(0)"
      ],
      "metadata": {
        "colab": {
          "base_uri": "https://localhost:8080/"
        },
        "id": "6mFe7OAhd5ws",
        "outputId": "81c5328d-f855-4056-9f1f-0a5bd149c2ed"
      },
      "execution_count": 5,
      "outputs": [
        {
          "output_type": "execute_result",
          "data": {
            "text/plain": [
              "3"
            ]
          },
          "metadata": {},
          "execution_count": 5
        }
      ]
    },
    {
      "cell_type": "code",
      "source": [
        "# ACACGCTCTACGAGTCTA\n",
        "# ACAC\n",
        "p = 'ACAC'\n",
        "p_bm = BoyerMoore(p)\n",
        "p_bm.match_skip()"
      ],
      "metadata": {
        "colab": {
          "base_uri": "https://localhost:8080/"
        },
        "id": "2RvVdSP6d5yt",
        "outputId": "8245c5f5-a62f-4af2-a565-b20aa0ebd912"
      },
      "execution_count": 6,
      "outputs": [
        {
          "output_type": "execute_result",
          "data": {
            "text/plain": [
              "2"
            ]
          },
          "metadata": {},
          "execution_count": 6
        }
      ]
    },
    {
      "cell_type": "code",
      "source": [
        "# Boyer-Moore matching\n",
        "def boyer_moore(p, p_bm, t):\n",
        "    i = 0\n",
        "    occurrences = []\n",
        "    while i < len(t) - len(p) + 1:\n",
        "        shift = 1\n",
        "        mismatched = False\n",
        "        for j in range(len(p)-1, -1, -1):\n",
        "            if p[j] != t[i+j]:\n",
        "                skip_bc = p_bm.bad_character_rule(j, t[i+j])\n",
        "                skip_gs = p_bm.good_suffix_rule(j)\n",
        "                shift = max(shift, skip_bc, skip_gs)\n",
        "                mismatched = True\n",
        "                break\n",
        "        if not mismatched:\n",
        "            occurrences.append(i)\n",
        "            skip_gs = p_bm.match_skip()\n",
        "            shift = max(shift, skip_gs)\n",
        "        i += shift\n",
        "    return occurrences"
      ],
      "metadata": {
        "id": "enT29Yxad506"
      },
      "execution_count": 7,
      "outputs": []
    },
    {
      "cell_type": "code",
      "source": [
        "t = 'GCTAGCTCTACGAGTCTA'\n",
        "p = 'TCTA'\n",
        "p_bm = BoyerMoore(p)\n",
        "boyer_moore(p, p_bm, t)"
      ],
      "metadata": {
        "colab": {
          "base_uri": "https://localhost:8080/"
        },
        "id": "kgIIq2Tzd53H",
        "outputId": "eba0aa6f-3ea5-4c0c-acdd-f4e5dcb460c8"
      },
      "execution_count": 8,
      "outputs": [
        {
          "output_type": "execute_result",
          "data": {
            "text/plain": [
              "[6, 14]"
            ]
          },
          "metadata": {},
          "execution_count": 8
        }
      ]
    },
    {
      "cell_type": "code",
      "source": [
        "# Check the output\n",
        "t[6:10]"
      ],
      "metadata": {
        "colab": {
          "base_uri": "https://localhost:8080/",
          "height": 35
        },
        "id": "fRtDiN3_d55P",
        "outputId": "763b2434-22ed-4604-c8f3-0aeb6c6693bf"
      },
      "execution_count": 9,
      "outputs": [
        {
          "output_type": "execute_result",
          "data": {
            "text/plain": [
              "'TCTA'"
            ],
            "application/vnd.google.colaboratory.intrinsic+json": {
              "type": "string"
            }
          },
          "metadata": {},
          "execution_count": 9
        }
      ]
    },
    {
      "cell_type": "code",
      "source": [
        "t[14:18]"
      ],
      "metadata": {
        "colab": {
          "base_uri": "https://localhost:8080/",
          "height": 35
        },
        "id": "dVgqzl2Od57G",
        "outputId": "3d81dfaf-4c68-4897-dda9-808dbc390074"
      },
      "execution_count": 10,
      "outputs": [
        {
          "output_type": "execute_result",
          "data": {
            "text/plain": [
              "'TCTA'"
            ],
            "application/vnd.google.colaboratory.intrinsic+json": {
              "type": "string"
            }
          },
          "metadata": {},
          "execution_count": 10
        }
      ]
    },
    {
      "cell_type": "code",
      "source": [
        "## Implementing a k-mer index\n",
        "import bisect # binary search "
      ],
      "metadata": {
        "id": "N-WJSyLud59A"
      },
      "execution_count": 11,
      "outputs": []
    },
    {
      "cell_type": "code",
      "source": [
        "class Index(object):\n",
        "    def __init__(self, t, k):\n",
        "        ''' Create index from all substrings of size 'length' '''\n",
        "        self.k = k  # k-mer length (k)\n",
        "        self.index = []\n",
        "        for i in range(len(t) - k + 1):  # for each k-mer\n",
        "            self.index.append((t[i:i+k], i))  # add (k-mer, offset) pair\n",
        "        self.index.sort()  # alphabetize by k-mer\n",
        "    \n",
        "    def query(self, p):\n",
        "        ''' Return index hits for first k-mer of P '''\n",
        "        kmer = p[:self.k]  # query with first k-mer\n",
        "        i = bisect.bisect_left(self.index, (kmer, -1))  # binary search\n",
        "        hits = []\n",
        "        while i < len(self.index):  # collect matching index entries\n",
        "            if self.index[i][0] != kmer:\n",
        "                break\n",
        "            hits.append(self.index[i][1])\n",
        "            i += 1\n",
        "        return hits"
      ],
      "metadata": {
        "id": "C5OLLsSHd5_V"
      },
      "execution_count": 12,
      "outputs": []
    },
    {
      "cell_type": "code",
      "source": [
        "def queryIndex(p, t, index):\n",
        "    k = index.k\n",
        "    offsets = []\n",
        "    for i in index.query(p):\n",
        "        if p[k:] == t[i+k:i+len(p)]:  # verify that rest of P matches\n",
        "            offsets.append(i)\n",
        "    return offsets"
      ],
      "metadata": {
        "id": "KzySOYcx_ZqE"
      },
      "execution_count": 14,
      "outputs": []
    },
    {
      "cell_type": "code",
      "source": [
        "# Test them\n",
        "t = 'ACTTGGAGATCTTTGAGGCTAGGTATTCGGGATCGAAGCTCATTTCGGGGATCGATTACGATATGGTGGGTATTCGGGA'\n",
        "p = 'GGTATTCGGGA'\n",
        "index = Index(t, 4)\n",
        "print(queryIndex(p, t, index))"
      ],
      "metadata": {
        "colab": {
          "base_uri": "https://localhost:8080/"
        },
        "id": "klYBVI_x_ZsT",
        "outputId": "3b23f72e-a209-4f73-bdc2-7eb6d456f95d"
      },
      "execution_count": 15,
      "outputs": [
        {
          "output_type": "stream",
          "name": "stdout",
          "text": [
            "[21, 68]\n"
          ]
        }
      ]
    },
    {
      "cell_type": "code",
      "source": [
        "## Implementing the pigeonhole principle\n",
        "def approximate_match(p, t, n):\n",
        "    segment_length = int(round(len(p) / (n+1)))\n",
        "    all_matches = set()\n",
        "    for i in range(n+1):\n",
        "        start = i*segment_length\n",
        "        end = min((i+1)*segment_length, len(p))\n",
        "        p_bm = BoyerMoore(p[start:end], alphabet='ACGT')\n",
        "        matches = boyer_moore(p[start:end], p_bm, t)\n",
        "        # Extend matching segments to see if whole p matches\n",
        "        for m in matches:\n",
        "            if m < start or m-start+len(p) > len(t):\n",
        "                continue\n",
        "            mismatches = 0\n",
        "            for j in range(0, start):\n",
        "                if not p[j] == t[m-start+j]:\n",
        "                    mismatches += 1\n",
        "                    if mismatches > n:\n",
        "                        break\n",
        "            for j in range(end, len(p)):\n",
        "                if not p[j] == t[m-start+j]:\n",
        "                    mismatches += 1\n",
        "                    if mismatches > n:\n",
        "                        break\n",
        "            if mismatches <= n:\n",
        "                all_matches.add(m - start)\n",
        "    return list(all_matches)"
      ],
      "metadata": {
        "id": "-ToKFf8j_Zuq"
      },
      "execution_count": 16,
      "outputs": []
    },
    {
      "cell_type": "code",
      "source": [
        "p = 'AACTTG'\n",
        "t = 'CACTTAATTTG'\n",
        "print(approximate_match(p, t, 2))"
      ],
      "metadata": {
        "colab": {
          "base_uri": "https://localhost:8080/"
        },
        "id": "zvjTa6eNd6B1",
        "outputId": "92ef8b46-32d5-453c-d0c4-1f180dbbd2f3"
      },
      "execution_count": 17,
      "outputs": [
        {
          "output_type": "stream",
          "name": "stdout",
          "text": [
            "[0, 5]\n"
          ]
        }
      ]
    }
  ]
}