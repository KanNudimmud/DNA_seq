{
  "nbformat": 4,
  "nbformat_minor": 0,
  "metadata": {
    "colab": {
      "name": "edit distance,assembly,overlaps.ipynb",
      "provenance": []
    },
    "kernelspec": {
      "name": "python3",
      "display_name": "Python 3"
    },
    "language_info": {
      "name": "python"
    }
  },
  "cells": [
    {
      "cell_type": "code",
      "execution_count": 1,
      "metadata": {
        "id": "s23WP_qWYL5E"
      },
      "outputs": [],
      "source": [
        "## Implementing dynamic programming for edit distance\n",
        "def editDistance(x, y):\n",
        "    # Create distance matrix\n",
        "    D = []\n",
        "    for i in range(len(x)+1):\n",
        "        D.append([0]*(len(y)+1))\n",
        "    # Initialize first row and column of matrix\n",
        "    for i in range(len(x)+1):\n",
        "        D[i][0] = i\n",
        "    for i in range(len(y)+1):\n",
        "        D[0][i] = i\n",
        "    # Fill in the rest of the matrix\n",
        "    for i in range(1, len(x)+1):\n",
        "        for j in range(1, len(y)+1):\n",
        "            distHor = D[i][j-1] + 1\n",
        "            distVer = D[i-1][j] + 1\n",
        "            if x[i-1] == y[j-1]:\n",
        "                distDiag = D[i-1][j-1]\n",
        "            else:\n",
        "                distDiag = D[i-1][j-1] + 1\n",
        "            D[i][j] = min(distHor, distVer, distDiag)\n",
        "    # Edit distance is the value in the bottom right corner of the matrix\n",
        "    return D[-1][-1]"
      ]
    },
    {
      "cell_type": "code",
      "source": [
        "%%time\n",
        "x = 'shake spea'\n",
        "y = 'Shakespear'\n",
        "editDistance(x, y)"
      ],
      "metadata": {
        "colab": {
          "base_uri": "https://localhost:8080/"
        },
        "id": "DgbKEH55Yct3",
        "outputId": "973acc47-27ee-48d3-a625-d57836246366"
      },
      "execution_count": 3,
      "outputs": [
        {
          "output_type": "stream",
          "name": "stdout",
          "text": [
            "CPU times: user 99 µs, sys: 0 ns, total: 99 µs\n",
            "Wall time: 102 µs\n"
          ]
        }
      ]
    },
    {
      "cell_type": "code",
      "source": [
        "## Implementing global alignment\n",
        "alphabet = ['A', 'C', 'G', 'T']\n",
        "score = [[0, 4, 2, 4, 8],\n",
        "         [4, 0, 4, 2, 8],\n",
        "         [2, 4, 0, 4, 8],\n",
        "         [4, 2, 4, 0, 8],\n",
        "         [8, 8, 8, 8, 8]]"
      ],
      "metadata": {
        "id": "dmlpRnQ3YcwB"
      },
      "execution_count": 4,
      "outputs": []
    },
    {
      "cell_type": "code",
      "source": [
        "# penalty associated with A (from X) mismatching with T (from Y)\n",
        "score[alphabet.index('A')][alphabet.index('T')]"
      ],
      "metadata": {
        "colab": {
          "base_uri": "https://localhost:8080/"
        },
        "id": "r5dYlahyYcyj",
        "outputId": "55798259-1cee-4b1d-ea15-411472d603e4"
      },
      "execution_count": 5,
      "outputs": [
        {
          "output_type": "execute_result",
          "data": {
            "text/plain": [
              "4"
            ]
          },
          "metadata": {},
          "execution_count": 5
        }
      ]
    },
    {
      "cell_type": "code",
      "source": [
        "# penalty associated with C (from X) being deleted in Y\n",
        "score[alphabet.index('C')][-1]"
      ],
      "metadata": {
        "colab": {
          "base_uri": "https://localhost:8080/"
        },
        "id": "gXpkHvIgYc0a",
        "outputId": "16c5da4d-08f1-4c6b-f8c7-e2fa71e82486"
      },
      "execution_count": 6,
      "outputs": [
        {
          "output_type": "execute_result",
          "data": {
            "text/plain": [
              "8"
            ]
          },
          "metadata": {},
          "execution_count": 6
        }
      ]
    },
    {
      "cell_type": "code",
      "source": [
        "def globalAlignment(x, y):\n",
        "    # Create distance matrix\n",
        "    D = []\n",
        "    for i in range(len(x)+1):\n",
        "        D.append([0] * (len(y)+1))\n",
        "        \n",
        "    # Initialize first column\n",
        "    for i in range(1, len(x)+1):\n",
        "        D[i][0] = D[i-1][0] + score[alphabet.index(x[i-1])][-1]\n",
        "\n",
        "    # Initialize first row\n",
        "    for j in range(1,len(y)+1):\n",
        "        D[0][j] = D[0][j-1] + score[-1][alphabet.index(y[j-1])]\n",
        "        \n",
        "    # Fill rest of the matrix\n",
        "    for i in range(1, len(x)+1):\n",
        "        for j in range(1, len(y)+1):\n",
        "            distHor = D[i][j-1] + score[-1][alphabet.index(y[j-1])]\n",
        "            distVer = D[i-1][j] + score[alphabet.index(x[i-1])][-1]\n",
        "            distDiag = D[i-1][j-1] + score[alphabet.index(x[i-1])][alphabet.index(y[j-1])]\n",
        "            D[i][j] = min(distHor, distVer, distDiag)\n",
        "    \n",
        "    return D[-1][-1]  # return value in bottom right corner"
      ],
      "metadata": {
        "id": "JsPzvIlyYc2c"
      },
      "execution_count": 8,
      "outputs": []
    },
    {
      "cell_type": "code",
      "source": [
        "x = 'TATGTCATGC'\n",
        "y = 'TATGGCAGC'\n",
        "print(globalAlignment(x,y))"
      ],
      "metadata": {
        "colab": {
          "base_uri": "https://localhost:8080/"
        },
        "id": "7N8X_42IYc4U",
        "outputId": "835acfa0-a2cd-4cfd-e6d5-73ddf519a805"
      },
      "execution_count": 9,
      "outputs": [
        {
          "output_type": "stream",
          "name": "stdout",
          "text": [
            "12\n"
          ]
        }
      ]
    },
    {
      "cell_type": "code",
      "source": [
        "## Overlaps between pairs of reads\n",
        "def overlap(a, b, min_length=3):\n",
        "    \"\"\" Return length of longest suffix of 'a' matching\n",
        "        a prefix of 'b' that is at least 'min_length'\n",
        "        characters long.  If no such overlap exists,\n",
        "        return 0. \"\"\"\n",
        "    start = 0  # start all the way at the left\n",
        "    while True:\n",
        "        start = a.find(b[:min_length], start)  # look for b's prefix in a\n",
        "        if start == -1:  # no more occurrences to right\n",
        "            return 0\n",
        "        # found occurrence; check for full suffix/prefix match\n",
        "        if b.startswith(a[start:]):\n",
        "            return len(a)-start\n",
        "        start += 1  # move just past previous match"
      ],
      "metadata": {
        "id": "FR3DgjSfYc9R"
      },
      "execution_count": 10,
      "outputs": []
    },
    {
      "cell_type": "code",
      "source": [
        "overlap('TTACGT', 'CGTGTGC')"
      ],
      "metadata": {
        "colab": {
          "base_uri": "https://localhost:8080/"
        },
        "id": "fEM-vo8rYc_E",
        "outputId": "0166907b-ab1b-458c-e87d-5d056b9ab568"
      },
      "execution_count": 11,
      "outputs": [
        {
          "output_type": "execute_result",
          "data": {
            "text/plain": [
              "3"
            ]
          },
          "metadata": {},
          "execution_count": 11
        }
      ]
    },
    {
      "cell_type": "code",
      "source": [
        "## Finding and representing all overlaps\n",
        "from itertools import permutations\n",
        "\n",
        "def naive_overlap_map(reads, k):\n",
        "    olaps = {}\n",
        "    for a, b in permutations(reads, 2):\n",
        "        olen = overlap(a, b, min_length=k)\n",
        "        if olen > 0:\n",
        "            olaps[(a, b)] = olen\n",
        "    return olaps"
      ],
      "metadata": {
        "id": "lvDN-Qe4rw2r"
      },
      "execution_count": 12,
      "outputs": []
    },
    {
      "cell_type": "code",
      "source": [
        "reads = ['ACGGATC', 'GATCAAGT', 'TTCACGGA']\n",
        "print(naive_overlap_map(reads, 3))"
      ],
      "metadata": {
        "colab": {
          "base_uri": "https://localhost:8080/"
        },
        "id": "nHeJSjlvrw5A",
        "outputId": "9ddba50d-6357-4851-f917-622c1ab8122f"
      },
      "execution_count": 13,
      "outputs": [
        {
          "output_type": "stream",
          "name": "stdout",
          "text": [
            "{('ACGGATC', 'GATCAAGT'): 4, ('TTCACGGA', 'ACGGATC'): 5}\n"
          ]
        }
      ]
    }
  ]
}